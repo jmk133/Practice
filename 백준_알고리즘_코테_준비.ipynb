{
  "nbformat": 4,
  "nbformat_minor": 0,
  "metadata": {
    "colab": {
      "provenance": [],
      "authorship_tag": "ABX9TyNy+nIbqZr6iB0uEZt+xSjf",
      "include_colab_link": true
    },
    "kernelspec": {
      "name": "python3",
      "display_name": "Python 3"
    },
    "language_info": {
      "name": "python"
    }
  },
  "cells": [
    {
      "cell_type": "markdown",
      "metadata": {
        "id": "view-in-github",
        "colab_type": "text"
      },
      "source": [
        "<a href=\"https://colab.research.google.com/github/jmk133/Practice/blob/main/%EB%B0%B1%EC%A4%80_%EC%95%8C%EA%B3%A0%EB%A6%AC%EC%A6%98_%EC%BD%94%ED%85%8C_%EC%A4%80%EB%B9%84.ipynb\" target=\"_parent\"><img src=\"https://colab.research.google.com/assets/colab-badge.svg\" alt=\"Open In Colab\"/></a>"
      ]
    },
    {
      "cell_type": "code",
      "execution_count": 11,
      "metadata": {
        "id": "Aqlg7HQNzKEe",
        "colab": {
          "base_uri": "https://localhost:8080/"
        },
        "outputId": "0a044f32-2b5e-4f77-a77f-ef430236e44d"
      },
      "outputs": [
        {
          "output_type": "stream",
          "name": "stdout",
          "text": [
            "1\n",
            "AA+A+\n",
            "1\n",
            "3.00\n"
          ]
        }
      ],
      "source": [
        "#1935\n",
        "n = int(input())\n",
        "word = input()\n",
        "stack = []\n",
        "value = [0]*n\n",
        "for i in range(n):\n",
        "  value[i] = int(input())\n",
        "\n",
        "for i in word:\n",
        "  if i == '+' or i == '*' or i == '-' or i == '/': # 연산자인 경우 not in '+-*/'로 대체 가능\n",
        "    b = stack.pop()\n",
        "    a = stack.pop()\n",
        "    if i == '+':\n",
        "      stack.append(a+b)\n",
        "    elif i == '*':\n",
        "      stack.append(a*b)\n",
        "    elif i == '-':\n",
        "      stack.append(a-b)\n",
        "    else:\n",
        "      stack.append(a/b)\n",
        "  else:\n",
        "    stack.append(value[ord(i)-ord('A')]) # 피연산자인 경우 피연사자값 저장, ord함수: 문자의 아스키값 반환\n",
        "\n",
        "\n",
        "print(f\"{stack.pop():.2f}\")\n",
        ""
      ]
    }
  ]
}